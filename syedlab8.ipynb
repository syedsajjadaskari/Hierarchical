{
 "cells": [
  {
   "cell_type": "markdown",
   "metadata": {},
   "source": [
    "Lab-assignment - 9\n",
    "\n",
    "Syed Sajjad askari\n",
    "\n",
    "1MSCDA\n",
    "\n",
    "Python for data analytics\n",
    "\n",
    "2139484"
   ]
  },
  {
   "cell_type": "markdown",
   "metadata": {},
   "source": [
    "**Demonstrate the implementation of the following plots using matplotlib library. Use\n",
    "any dataset of your choice.**"
   ]
  },
  {
   "cell_type": "markdown",
   "metadata": {},
   "source": [
    "#import the python packages and library\n",
    "import pandas as pd\n",
    "import numpy as np\n",
    "import mathplotlib.pyplot as plt"
   ]
  },
  {
   "cell_type": "code",
   "execution_count": 1,
   "metadata": {
    "execution": {
     "iopub.execute_input": "2021-10-05T04:12:09.791846Z",
     "iopub.status.busy": "2021-10-05T04:12:09.790980Z",
     "iopub.status.idle": "2021-10-05T04:12:09.818656Z",
     "shell.execute_reply": "2021-10-05T04:12:09.817746Z",
     "shell.execute_reply.started": "2021-10-05T04:12:09.791738Z"
    }
   },
   "outputs": [],
   "source": [
    "#import the python packages and library\n",
    "import pandas as pd\n",
    "import numpy as np\n",
    "import matplotlib.pyplot as plt"
   ]
  },
  {
   "cell_type": "markdown",
   "metadata": {},
   "source": [
    "importing dataset of world happiness\n"
   ]
  },
  {
   "cell_type": "code",
   "execution_count": 2,
   "metadata": {
    "execution": {
     "iopub.execute_input": "2021-10-05T04:12:09.820967Z",
     "iopub.status.busy": "2021-10-05T04:12:09.820252Z",
     "iopub.status.idle": "2021-10-05T04:12:09.851047Z",
     "shell.execute_reply": "2021-10-05T04:12:09.850206Z",
     "shell.execute_reply.started": "2021-10-05T04:12:09.820934Z"
    }
   },
   "outputs": [],
   "source": [
    "df = pd.read_csv(\"/Users/syedaskari/Downloads/dataset/AAPL.csv\")"
   ]
  },
  {
   "cell_type": "code",
   "execution_count": 3,
   "metadata": {
    "execution": {
     "iopub.execute_input": "2021-10-05T04:12:09.852733Z",
     "iopub.status.busy": "2021-10-05T04:12:09.852491Z",
     "iopub.status.idle": "2021-10-05T04:12:09.880258Z",
     "shell.execute_reply": "2021-10-05T04:12:09.879449Z",
     "shell.execute_reply.started": "2021-10-05T04:12:09.852707Z"
    }
   },
   "outputs": [
    {
     "data": {
      "text/html": [
       "<div>\n",
       "<style scoped>\n",
       "    .dataframe tbody tr th:only-of-type {\n",
       "        vertical-align: middle;\n",
       "    }\n",
       "\n",
       "    .dataframe tbody tr th {\n",
       "        vertical-align: top;\n",
       "    }\n",
       "\n",
       "    .dataframe thead th {\n",
       "        text-align: right;\n",
       "    }\n",
       "</style>\n",
       "<table border=\"1\" class=\"dataframe\">\n",
       "  <thead>\n",
       "    <tr style=\"text-align: right;\">\n",
       "      <th></th>\n",
       "      <th>Date</th>\n",
       "      <th>Open</th>\n",
       "      <th>High</th>\n",
       "      <th>Low</th>\n",
       "      <th>Close</th>\n",
       "      <th>Adj Close</th>\n",
       "      <th>Volume</th>\n",
       "    </tr>\n",
       "  </thead>\n",
       "  <tbody>\n",
       "    <tr>\n",
       "      <th>0</th>\n",
       "      <td>2021-06-14</td>\n",
       "      <td>127.820000</td>\n",
       "      <td>130.539993</td>\n",
       "      <td>127.070000</td>\n",
       "      <td>130.479996</td>\n",
       "      <td>130.284790</td>\n",
       "      <td>96906500</td>\n",
       "    </tr>\n",
       "    <tr>\n",
       "      <th>1</th>\n",
       "      <td>2021-06-15</td>\n",
       "      <td>129.940002</td>\n",
       "      <td>130.600006</td>\n",
       "      <td>129.389999</td>\n",
       "      <td>129.639999</td>\n",
       "      <td>129.446060</td>\n",
       "      <td>62746300</td>\n",
       "    </tr>\n",
       "    <tr>\n",
       "      <th>2</th>\n",
       "      <td>2021-06-16</td>\n",
       "      <td>130.369995</td>\n",
       "      <td>130.889999</td>\n",
       "      <td>128.460007</td>\n",
       "      <td>130.149994</td>\n",
       "      <td>129.955292</td>\n",
       "      <td>91815000</td>\n",
       "    </tr>\n",
       "    <tr>\n",
       "      <th>3</th>\n",
       "      <td>2021-06-17</td>\n",
       "      <td>129.800003</td>\n",
       "      <td>132.550003</td>\n",
       "      <td>129.649994</td>\n",
       "      <td>131.789993</td>\n",
       "      <td>131.592834</td>\n",
       "      <td>96721700</td>\n",
       "    </tr>\n",
       "    <tr>\n",
       "      <th>4</th>\n",
       "      <td>2021-06-18</td>\n",
       "      <td>130.710007</td>\n",
       "      <td>131.509995</td>\n",
       "      <td>130.240005</td>\n",
       "      <td>130.460007</td>\n",
       "      <td>130.264832</td>\n",
       "      <td>108953300</td>\n",
       "    </tr>\n",
       "  </tbody>\n",
       "</table>\n",
       "</div>"
      ],
      "text/plain": [
       "         Date        Open        High         Low       Close   Adj Close  \\\n",
       "0  2021-06-14  127.820000  130.539993  127.070000  130.479996  130.284790   \n",
       "1  2021-06-15  129.940002  130.600006  129.389999  129.639999  129.446060   \n",
       "2  2021-06-16  130.369995  130.889999  128.460007  130.149994  129.955292   \n",
       "3  2021-06-17  129.800003  132.550003  129.649994  131.789993  131.592834   \n",
       "4  2021-06-18  130.710007  131.509995  130.240005  130.460007  130.264832   \n",
       "\n",
       "      Volume  \n",
       "0   96906500  \n",
       "1   62746300  \n",
       "2   91815000  \n",
       "3   96721700  \n",
       "4  108953300  "
      ]
     },
     "execution_count": 3,
     "metadata": {},
     "output_type": "execute_result"
    }
   ],
   "source": [
    "df.head()"
   ]
  },
  {
   "cell_type": "markdown",
   "metadata": {},
   "source": [
    "Check for null value"
   ]
  },
  {
   "cell_type": "code",
   "execution_count": 4,
   "metadata": {
    "execution": {
     "iopub.execute_input": "2021-10-05T04:12:09.882625Z",
     "iopub.status.busy": "2021-10-05T04:12:09.882316Z",
     "iopub.status.idle": "2021-10-05T04:12:09.891110Z",
     "shell.execute_reply": "2021-10-05T04:12:09.890068Z",
     "shell.execute_reply.started": "2021-10-05T04:12:09.882593Z"
    }
   },
   "outputs": [
    {
     "data": {
      "text/plain": [
       "Date         0\n",
       "Open         0\n",
       "High         0\n",
       "Low          0\n",
       "Close        0\n",
       "Adj Close    0\n",
       "Volume       0\n",
       "dtype: int64"
      ]
     },
     "execution_count": 4,
     "metadata": {},
     "output_type": "execute_result"
    }
   ],
   "source": [
    "df.isnull().sum()"
   ]
  },
  {
   "cell_type": "code",
   "execution_count": 5,
   "metadata": {
    "execution": {
     "iopub.execute_input": "2021-10-05T04:12:09.892681Z",
     "iopub.status.busy": "2021-10-05T04:12:09.892422Z",
     "iopub.status.idle": "2021-10-05T04:12:09.905779Z",
     "shell.execute_reply": "2021-10-05T04:12:09.904873Z",
     "shell.execute_reply.started": "2021-10-05T04:12:09.892652Z"
    }
   },
   "outputs": [
    {
     "data": {
      "text/plain": [
       "(63, 7)"
      ]
     },
     "execution_count": 5,
     "metadata": {},
     "output_type": "execute_result"
    }
   ],
   "source": [
    "df.shape"
   ]
  },
  {
   "cell_type": "code",
   "execution_count": 6,
   "metadata": {
    "execution": {
     "iopub.execute_input": "2021-10-05T04:12:09.908357Z",
     "iopub.status.busy": "2021-10-05T04:12:09.907231Z",
     "iopub.status.idle": "2021-10-05T04:12:09.919366Z",
     "shell.execute_reply": "2021-10-05T04:12:09.918220Z",
     "shell.execute_reply.started": "2021-10-05T04:12:09.908281Z"
    }
   },
   "outputs": [
    {
     "data": {
      "text/plain": [
       "Index(['Date', 'Open', 'High', 'Low', 'Close', 'Adj Close', 'Volume'], dtype='object')"
      ]
     },
     "execution_count": 6,
     "metadata": {},
     "output_type": "execute_result"
    }
   ],
   "source": [
    "df.columns"
   ]
  },
  {
   "cell_type": "markdown",
   "metadata": {},
   "source": [
    "A) Scatter plot"
   ]
  },
  {
   "cell_type": "markdown",
   "metadata": {},
   "source": [
    "A scatter plot is a diagram where each value in the data set is represented by a dot."
   ]
  },
  {
   "cell_type": "code",
   "execution_count": 7,
   "metadata": {
    "execution": {
     "iopub.execute_input": "2021-10-05T04:12:09.921547Z",
     "iopub.status.busy": "2021-10-05T04:12:09.921009Z",
     "iopub.status.idle": "2021-10-05T04:12:10.187676Z",
     "shell.execute_reply": "2021-10-05T04:12:10.186804Z",
     "shell.execute_reply.started": "2021-10-05T04:12:09.921510Z"
    }
   },
   "outputs": [
    {
     "data": {
      "image/png": "[encoded data removed]",
      "text/plain": [
       "<Figure size 432x288 with 1 Axes>"
      ]
     },
     "metadata": {
      "needs_background": "light"
     },
     "output_type": "display_data"
    }
   ],
   "source": [
    "plt.scatter(df['High'],df['Low'])\n",
    "plt.title(\"Difference value of the stock high and low\")\n",
    "plt.show()"
   ]
  },
  {
   "cell_type": "markdown",
   "metadata": {},
   "source": [
    "B) Histogram"
   ]
  },
  {
   "cell_type": "markdown",
   "metadata": {},
   "source": [
    "A histogram is a graph showing frequency distributions."
   ]
  },
  {
   "cell_type": "code",
   "execution_count": 8,
   "metadata": {
    "execution": {
     "iopub.execute_input": "2021-10-05T04:12:10.189884Z",
     "iopub.status.busy": "2021-10-05T04:12:10.189223Z",
     "iopub.status.idle": "2021-10-05T04:12:10.431940Z",
     "shell.execute_reply": "2021-10-05T04:12:10.431090Z",
     "shell.execute_reply.started": "2021-10-05T04:12:10.189838Z"
    }
   },
   "outputs": [
    {
     "data": {
      "text/plain": [
       "Text(0.5, 1.0, 'Volume of the stock')"
      ]
     },
     "execution_count": 8,
     "metadata": {},
     "output_type": "execute_result"
    },
    {
     "data": {
      "image/png": "[encoded data removed]",
      "text/plain": [
       "<Figure size 432x288 with 1 Axes>"
      ]
     },
     "metadata": {
      "needs_background": "light"
     },
     "output_type": "display_data"
    }
   ],
   "source": [
    "plt.hist(df['Volume'])\n",
    "plt.title(\"Volume of the stock\")"
   ]
  },
  {
   "cell_type": "markdown",
   "metadata": {},
   "source": [
    "C). Bar plot"
   ]
  },
  {
   "cell_type": "markdown",
   "metadata": {},
   "source": [
    " Bar chart or bar graph is a chart or graph that presents categorical data with rectangular bars with heights or lengths proportional to the values that they represent."
   ]
  },
  {
   "cell_type": "code",
   "execution_count": 9,
   "metadata": {
    "execution": {
     "iopub.execute_input": "2021-10-05T04:15:31.852212Z",
     "iopub.status.busy": "2021-10-05T04:15:31.851533Z",
     "iopub.status.idle": "2021-10-05T04:15:32.066970Z",
     "shell.execute_reply": "2021-10-05T04:15:32.066180Z",
     "shell.execute_reply.started": "2021-10-05T04:15:31.852168Z"
    }
   },
   "outputs": [
    {
     "data": {
      "text/plain": [
       "Text(0, 0.5, 'Volume of the stock')"
      ]
     },
     "execution_count": 9,
     "metadata": {},
     "output_type": "execute_result"
    },
    {
     "data": {
      "image/png": "[encoded data removed]",
      "text/plain": [
       "<Figure size 576x360 with 1 Axes>"
      ]
     },
     "metadata": {
      "needs_background": "light"
     },
     "output_type": "display_data"
    }
   ],
   "source": [
    "plt.figure(figsize=(8,5))\n",
    "plt.bar(list(df['Date'])[0:5], list(df['Volume'])[0:5], color=\"g\")\n",
    "plt.xlabel(\"Date of the stock price\")\n",
    "plt.ylabel(\"Volume of the stock\")\n",
    "\n",
    "#display only first five values"
   ]
  },
  {
   "cell_type": "code",
   "execution_count": null,
   "metadata": {
    "execution": {
     "iopub.execute_input": "2021-10-05T04:22:58.148897Z",
     "iopub.status.busy": "2021-10-05T04:22:58.148588Z",
     "iopub.status.idle": "2021-10-05T04:22:58.378195Z",
     "shell.execute_reply": "2021-10-05T04:22:58.377257Z",
     "shell.execute_reply.started": "2021-10-05T04:22:58.148866Z"
    }
   },
   "outputs": [],
   "source": []
  },
  {
   "cell_type": "code",
   "execution_count": null,
   "metadata": {},
   "outputs": [],
   "source": []
  }
 ],
 "metadata": {
  "kernelspec": {
   "display_name": "Python 3",
   "language": "python",
   "name": "python3"
  },
  "language_info": {
   "codemirror_mode": {
    "name": "ipython",
    "version": 3
   },
   "file_extension": ".py",
   "mimetype": "text/x-python",
   "name": "python",
   "nbconvert_exporter": "python",
   "pygments_lexer": "ipython3",
   "version": "3.8.8"
  }
 },
 "nbformat": 4,
 "nbformat_minor": 4
}
